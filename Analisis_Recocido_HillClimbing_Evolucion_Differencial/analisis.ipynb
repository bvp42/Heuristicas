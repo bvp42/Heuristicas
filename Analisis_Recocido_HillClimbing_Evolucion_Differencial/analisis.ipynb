{
 "cells": [
  {
   "attachments": {},
   "cell_type": "markdown",
   "metadata": {},
   "source": [
    "# En este programa analizaremos los resultados que nos dieron Hill Climbing V1 y Recocido con Epsilon = 1 y Evolucion diferencial con Epsilon = 1, Taza de Cruza 0.4 y Factor de Mutacion 0.6 que fueron los que me dieron los mejores resultados "
   ]
  },
  {
   "cell_type": "markdown",
   "metadata": {},
   "source": [
    "### Nota: Se realizaron varias veces los experimentos y se busco la solucion que más veces se repetia para los tres algoritmos con y sin semilla escogiendo esta corrida de datos sin semilla."
   ]
  },
  {
   "cell_type": "code",
   "execution_count": 1,
   "metadata": {},
   "outputs": [],
   "source": [
    "import pandas as pd\n",
    "import seaborn as sns"
   ]
  },
  {
   "cell_type": "markdown",
   "metadata": {},
   "source": [
    "#### Importamos los datos de Hill Climbing"
   ]
  },
  {
   "cell_type": "code",
   "execution_count": 2,
   "metadata": {},
   "outputs": [
    {
     "data": {
      "text/html": [
       "<div>\n",
       "<style scoped>\n",
       "    .dataframe tbody tr th:only-of-type {\n",
       "        vertical-align: middle;\n",
       "    }\n",
       "\n",
       "    .dataframe tbody tr th {\n",
       "        vertical-align: top;\n",
       "    }\n",
       "\n",
       "    .dataframe thead th {\n",
       "        text-align: right;\n",
       "    }\n",
       "</style>\n",
       "<table border=\"1\" class=\"dataframe\">\n",
       "  <thead>\n",
       "    <tr style=\"text-align: right;\">\n",
       "      <th></th>\n",
       "      <th>Costo</th>\n",
       "      <th>Tiempo</th>\n",
       "    </tr>\n",
       "  </thead>\n",
       "  <tbody>\n",
       "    <tr>\n",
       "      <th>0</th>\n",
       "      <td>434.279518</td>\n",
       "      <td>0.004361</td>\n",
       "    </tr>\n",
       "    <tr>\n",
       "      <th>1</th>\n",
       "      <td>473.786310</td>\n",
       "      <td>0.003657</td>\n",
       "    </tr>\n",
       "    <tr>\n",
       "      <th>2</th>\n",
       "      <td>118.439207</td>\n",
       "      <td>0.004798</td>\n",
       "    </tr>\n",
       "    <tr>\n",
       "      <th>3</th>\n",
       "      <td>118.438478</td>\n",
       "      <td>0.004519</td>\n",
       "    </tr>\n",
       "    <tr>\n",
       "      <th>4</th>\n",
       "      <td>236.876731</td>\n",
       "      <td>0.004319</td>\n",
       "    </tr>\n",
       "  </tbody>\n",
       "</table>\n",
       "</div>"
      ],
      "text/plain": [
       "        Costo    Tiempo\n",
       "0  434.279518  0.004361\n",
       "1  473.786310  0.003657\n",
       "2  118.439207  0.004798\n",
       "3  118.438478  0.004519\n",
       "4  236.876731  0.004319"
      ]
     },
     "execution_count": 2,
     "metadata": {},
     "output_type": "execute_result"
    }
   ],
   "source": [
    "HCv1 = pd.read_csv(\"hill_climbing.csv\")\n",
    "HCv1.head()"
   ]
  },
  {
   "cell_type": "markdown",
   "metadata": {},
   "source": [
    "#### Importamos los datos de Recocido"
   ]
  },
  {
   "cell_type": "code",
   "execution_count": 3,
   "metadata": {},
   "outputs": [
    {
     "data": {
      "text/html": [
       "<div>\n",
       "<style scoped>\n",
       "    .dataframe tbody tr th:only-of-type {\n",
       "        vertical-align: middle;\n",
       "    }\n",
       "\n",
       "    .dataframe tbody tr th {\n",
       "        vertical-align: top;\n",
       "    }\n",
       "\n",
       "    .dataframe thead th {\n",
       "        text-align: right;\n",
       "    }\n",
       "</style>\n",
       "<table border=\"1\" class=\"dataframe\">\n",
       "  <thead>\n",
       "    <tr style=\"text-align: right;\">\n",
       "      <th></th>\n",
       "      <th>Costo</th>\n",
       "      <th>Tiempo</th>\n",
       "    </tr>\n",
       "  </thead>\n",
       "  <tbody>\n",
       "    <tr>\n",
       "      <th>0</th>\n",
       "      <td>394.899986</td>\n",
       "      <td>0.149848</td>\n",
       "    </tr>\n",
       "    <tr>\n",
       "      <th>1</th>\n",
       "      <td>434.279396</td>\n",
       "      <td>0.122841</td>\n",
       "    </tr>\n",
       "    <tr>\n",
       "      <th>2</th>\n",
       "      <td>473.786297</td>\n",
       "      <td>0.121952</td>\n",
       "    </tr>\n",
       "    <tr>\n",
       "      <th>3</th>\n",
       "      <td>434.279367</td>\n",
       "      <td>0.156958</td>\n",
       "    </tr>\n",
       "    <tr>\n",
       "      <th>4</th>\n",
       "      <td>513.246431</td>\n",
       "      <td>0.130162</td>\n",
       "    </tr>\n",
       "  </tbody>\n",
       "</table>\n",
       "</div>"
      ],
      "text/plain": [
       "        Costo    Tiempo\n",
       "0  394.899986  0.149848\n",
       "1  434.279396  0.122841\n",
       "2  473.786297  0.121952\n",
       "3  434.279367  0.156958\n",
       "4  513.246431  0.130162"
      ]
     },
     "execution_count": 3,
     "metadata": {},
     "output_type": "execute_result"
    }
   ],
   "source": [
    "RSv1 = pd.read_csv(\"recocido.csv\")\n",
    "RSv1.head()"
   ]
  },
  {
   "cell_type": "markdown",
   "metadata": {},
   "source": [
    "#### Importamos los datos de Evolucion diferencial"
   ]
  },
  {
   "cell_type": "code",
   "execution_count": 4,
   "metadata": {},
   "outputs": [
    {
     "data": {
      "text/html": [
       "<div>\n",
       "<style scoped>\n",
       "    .dataframe tbody tr th:only-of-type {\n",
       "        vertical-align: middle;\n",
       "    }\n",
       "\n",
       "    .dataframe tbody tr th {\n",
       "        vertical-align: top;\n",
       "    }\n",
       "\n",
       "    .dataframe thead th {\n",
       "        text-align: right;\n",
       "    }\n",
       "</style>\n",
       "<table border=\"1\" class=\"dataframe\">\n",
       "  <thead>\n",
       "    <tr style=\"text-align: right;\">\n",
       "      <th></th>\n",
       "      <th>Costo</th>\n",
       "      <th>Tiempo</th>\n",
       "    </tr>\n",
       "  </thead>\n",
       "  <tbody>\n",
       "    <tr>\n",
       "      <th>0</th>\n",
       "      <td>0.000025</td>\n",
       "      <td>0.146292</td>\n",
       "    </tr>\n",
       "    <tr>\n",
       "      <th>1</th>\n",
       "      <td>0.000025</td>\n",
       "      <td>0.152269</td>\n",
       "    </tr>\n",
       "    <tr>\n",
       "      <th>2</th>\n",
       "      <td>0.000025</td>\n",
       "      <td>0.150708</td>\n",
       "    </tr>\n",
       "    <tr>\n",
       "      <th>3</th>\n",
       "      <td>0.000025</td>\n",
       "      <td>0.153266</td>\n",
       "    </tr>\n",
       "    <tr>\n",
       "      <th>4</th>\n",
       "      <td>0.000025</td>\n",
       "      <td>0.149815</td>\n",
       "    </tr>\n",
       "  </tbody>\n",
       "</table>\n",
       "</div>"
      ],
      "text/plain": [
       "      Costo    Tiempo\n",
       "0  0.000025  0.146292\n",
       "1  0.000025  0.152269\n",
       "2  0.000025  0.150708\n",
       "3  0.000025  0.153266\n",
       "4  0.000025  0.149815"
      ]
     },
     "execution_count": 4,
     "metadata": {},
     "output_type": "execute_result"
    }
   ],
   "source": [
    "ED = pd.read_csv(\"evol_dif.csv\")\n",
    "ED.head()"
   ]
  },
  {
   "cell_type": "markdown",
   "metadata": {},
   "source": [
    "#### Reportamos los datos que se piden para la Hill Climbing  (Promedio,Desviacion Estandar)"
   ]
  },
  {
   "cell_type": "code",
   "execution_count": 5,
   "metadata": {},
   "outputs": [
    {
     "name": "stdout",
     "output_type": "stream",
     "text": [
      "Resultados Hill Climbing \n",
      "Promedio:  407.89482367943026 \n",
      "Desviacion Estandar:  144.84073249692713\n"
     ]
    }
   ],
   "source": [
    "print(\"Resultados Hill Climbing\",\"\\nPromedio: \",HCv1.Costo.mean(),\"\\nDesviacion Estandar: \",HCv1.Costo.std())"
   ]
  },
  {
   "cell_type": "markdown",
   "metadata": {},
   "source": [
    "#### Reportamos los datos que se piden para Recocido (Promedio,Desviacion Estandar)"
   ]
  },
  {
   "cell_type": "code",
   "execution_count": 6,
   "metadata": {},
   "outputs": [
    {
     "name": "stdout",
     "output_type": "stream",
     "text": [
      "Resultados Recocido \n",
      "Promedio:  385.01095490082207 \n",
      "Desviacion Estandar:  168.96584817217422\n"
     ]
    }
   ],
   "source": [
    "print(\"Resultados Recocido\",\"\\nPromedio: \",RSv1.Costo.mean(),\"\\nDesviacion Estandar: \",RSv1.Costo.std())"
   ]
  },
  {
   "cell_type": "markdown",
   "metadata": {},
   "source": [
    "#### Reportamos los datos que se piden para Evolucion Diferencial (Promedio,Desviacion Estandar)"
   ]
  },
  {
   "cell_type": "code",
   "execution_count": 7,
   "metadata": {},
   "outputs": [
    {
     "name": "stdout",
     "output_type": "stream",
     "text": [
      "Resultados Evolucion Diferecial \n",
      "Promedio:  27.29164590256479 \n",
      "Desviacion Estandar:  53.345769706933396\n"
     ]
    }
   ],
   "source": [
    "print(\"Resultados Evolucion Diferecial\",\"\\nPromedio: \",ED.Costo.mean(),\"\\nDesviacion Estandar: \",ED.Costo.std())"
   ]
  },
  {
   "cell_type": "markdown",
   "metadata": {},
   "source": [
    "#### Realizaremos el diagrama de cajas de las variantes de los algoritmos"
   ]
  },
  {
   "cell_type": "code",
   "execution_count": 9,
   "metadata": {},
   "outputs": [
    {
     "data": {
      "text/html": [
       "<div>\n",
       "<style scoped>\n",
       "    .dataframe tbody tr th:only-of-type {\n",
       "        vertical-align: middle;\n",
       "    }\n",
       "\n",
       "    .dataframe tbody tr th {\n",
       "        vertical-align: top;\n",
       "    }\n",
       "\n",
       "    .dataframe thead th {\n",
       "        text-align: right;\n",
       "    }\n",
       "</style>\n",
       "<table border=\"1\" class=\"dataframe\">\n",
       "  <thead>\n",
       "    <tr style=\"text-align: right;\">\n",
       "      <th></th>\n",
       "      <th>Costo_HillClimbing</th>\n",
       "      <th>Costo_Recocido</th>\n",
       "      <th>Costo_EvolDif</th>\n",
       "    </tr>\n",
       "  </thead>\n",
       "  <tbody>\n",
       "    <tr>\n",
       "      <th>0</th>\n",
       "      <td>434.279518</td>\n",
       "      <td>394.899986</td>\n",
       "      <td>0.000025</td>\n",
       "    </tr>\n",
       "    <tr>\n",
       "      <th>1</th>\n",
       "      <td>473.786310</td>\n",
       "      <td>434.279396</td>\n",
       "      <td>0.000025</td>\n",
       "    </tr>\n",
       "    <tr>\n",
       "      <th>2</th>\n",
       "      <td>118.439207</td>\n",
       "      <td>473.786297</td>\n",
       "      <td>0.000025</td>\n",
       "    </tr>\n",
       "    <tr>\n",
       "      <th>3</th>\n",
       "      <td>118.438478</td>\n",
       "      <td>434.279367</td>\n",
       "      <td>0.000025</td>\n",
       "    </tr>\n",
       "    <tr>\n",
       "      <th>4</th>\n",
       "      <td>236.876731</td>\n",
       "      <td>513.246431</td>\n",
       "      <td>0.000025</td>\n",
       "    </tr>\n",
       "  </tbody>\n",
       "</table>\n",
       "</div>"
      ],
      "text/plain": [
       "   Costo_HillClimbing  Costo_Recocido  Costo_EvolDif\n",
       "0          434.279518      394.899986       0.000025\n",
       "1          473.786310      434.279396       0.000025\n",
       "2          118.439207      473.786297       0.000025\n",
       "3          118.438478      434.279367       0.000025\n",
       "4          236.876731      513.246431       0.000025"
      ]
     },
     "execution_count": 9,
     "metadata": {},
     "output_type": "execute_result"
    }
   ],
   "source": [
    "costov1 = HCv1[['Costo']]\n",
    "costov2 = RSv1[['Costo']]\n",
    "costov3 = (ED[['Costo']]).copy()\n",
    "costov3.rename(columns={'Costo':'Costo_EvolDif'},inplace=True)\n",
    "costos = costov1.join(costov2,lsuffix='_HillClimbing', rsuffix='_Recocido')\n",
    "costos = costos.join(costov3)\n",
    "costos.head()"
   ]
  },
  {
   "cell_type": "code",
   "execution_count": null,
   "metadata": {},
   "outputs": [
    {
     "data": {
      "text/plain": [
       "[Text(0, 0.5, 'Mejor costo')]"
      ]
     },
     "execution_count": 9,
     "metadata": {},
     "output_type": "execute_result"
    },
    {
     "data": {
      "image/png": "[encoded data removed]",
      "text/plain": [
       "<Figure size 640x480 with 1 Axes>"
      ]
     },
     "metadata": {},
     "output_type": "display_data"
    }
   ],
   "source": [
    "sns.set_theme(style=\"whitegrid\")\n",
    "boxplot2 = sns.boxplot(data=costos)\n",
    "boxplot2.set(ylabel='Mejor costo')"
   ]
  },
  {
   "cell_type": "markdown",
   "metadata": {},
   "source": [
    "#### Tiempo Promedio\n"
   ]
  },
  {
   "cell_type": "code",
   "execution_count": 10,
   "metadata": {},
   "outputs": [
    {
     "name": "stdout",
     "output_type": "stream",
     "text": [
      "Tiempo promedio Hill Climbing:  0.0045123338699340374 \n",
      "Tiempo promedio Recocido:  0.12896823883056638 \n",
      "Tiempo promedio Evolucion Diferencial:  0.153222378094991\n"
     ]
    }
   ],
   "source": [
    "print(\"Tiempo promedio Hill Climbing: \",HCv1.Tiempo.mean(),\"\\nTiempo promedio Recocido: \",RSv1.Tiempo.mean(),\"\\nTiempo promedio Evolucion Diferencial: \",ED.Tiempo.mean())"
   ]
  },
  {
   "cell_type": "markdown",
   "metadata": {},
   "source": [
    "#### Basandonos en los datos que pudimos obtener\n",
    "#### En este caso elegiriamos el algoritmo de evolucion diferencial por las siguientes caracteristicas del algoritmo\n",
    " \n",
    "##### 1.-Sus datos estan menos dispersos en comparacion con los otros dos algoritmos\n",
    "##### 2.-Por tener el promedio mas bajo en costo se acerca más al minimo global\n",
    "##### 3.-Aproximadamente solo un 5% de los datos de recocido son comparables con los de evolucion diferencial y sabiamos que recocido era mejor que hillclimbing.\n",
    "#### 4.-Sabemos que de nuestra muestra que cada resultado de costo de evolucion diferencial va a ser mejor el 75% de las veces que si aplicaramos cualquiera de los otros dos algoritmos \n",
    "##### 4.-Y a pesar de que toma mas tiempo que cualquiera de los otros dos algoritmos, sigue siendo imperceptible en tiempo humano para este problema por lo que no considero que sea un factor discriminante para usar este algoritmo."
   ]
  }
 ],
 "metadata": {
  "kernelspec": {
   "display_name": "Python 3.8.10 64-bit",
   "language": "python",
   "name": "python3"
  },
  "language_info": {
   "codemirror_mode": {
    "name": "ipython",
    "version": 3
   },
   "file_extension": ".py",
   "mimetype": "text/x-python",
   "name": "python",
   "nbconvert_exporter": "python",
   "pygments_lexer": "ipython3",
   "version": "3.8.10"
  },
  "orig_nbformat": 4,
  "vscode": {
   "interpreter": {
    "hash": "916dbcbb3f70747c44a77c7bcd40155683ae19c65e1c03b4aa3499c5328201f1"
   }
  }
 },
 "nbformat": 4,
 "nbformat_minor": 2
}
